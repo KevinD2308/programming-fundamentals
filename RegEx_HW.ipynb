{
  "nbformat": 4,
  "nbformat_minor": 0,
  "metadata": {
    "colab": {
      "name": "RegEx HW.ipynb",
      "provenance": [],
      "collapsed_sections": [],
      "include_colab_link": true
    },
    "kernelspec": {
      "name": "python3",
      "display_name": "Python 3"
    }
  },
  "cells": [
    {
      "cell_type": "markdown",
      "metadata": {
        "id": "view-in-github",
        "colab_type": "text"
      },
      "source": [
        "<a href=\"https://colab.research.google.com/github/KevinD2308/programming-fundamentals/blob/master/RegEx_HW.ipynb\" target=\"_parent\"><img src=\"https://colab.research.google.com/assets/colab-badge.svg\" alt=\"Open In Colab\"/></a>"
      ]
    },
    {
      "cell_type": "code",
      "metadata": {
        "id": "Y32WHNs5RSGQ",
        "colab_type": "code",
        "colab": {}
      },
      "source": [
        "import re"
      ],
      "execution_count": 0,
      "outputs": []
    },
    {
      "cell_type": "code",
      "metadata": {
        "id": "GofM1hYCRV8z",
        "colab_type": "code",
        "colab": {}
      },
      "source": [
        "def matches():\n",
        "  x=1\n",
        "  while x:\n",
        "    a=input(\"string: \")\n",
        "    match=re.search(r'^[aA].*[bB]',a)\n",
        "    if match: \n",
        "      print(\"True\")\n",
        "      x=0\n",
        "    else:\n",
        "      print(\"try again\")\n",
        "matches()"
      ],
      "execution_count": 0,
      "outputs": []
    },
    {
      "cell_type": "code",
      "metadata": {
        "id": "fFZ8jN49UTo7",
        "colab_type": "code",
        "outputId": "41eed660-5355-4709-b0b4-b186ffeb0079",
        "colab": {
          "base_uri": "https://localhost:8080/",
          "height": 84
        }
      },
      "source": [
        "def matchesss():\n",
        "  x=1\n",
        "  while x:\n",
        "    a=input(\"string: \")\n",
        "    match=re.search(r'^\\w.*',a)\n",
        "    if match: \n",
        "      print(\"True\")\n",
        "      x=0\n",
        "    else:\n",
        "      print(\"try again\")\n",
        "matchesss()"
      ],
      "execution_count": 0,
      "outputs": [
        {
          "output_type": "stream",
          "text": [
            "string:  fdfdfd\n",
            "try again\n",
            "string: assassa\n",
            "True\n"
          ],
          "name": "stdout"
        }
      ]
    },
    {
      "cell_type": "code",
      "metadata": {
        "id": "EiYq3nOCUlBi",
        "colab_type": "code",
        "outputId": "0da2eecd-1430-468a-9724-06635c9848bb",
        "colab": {
          "base_uri": "https://localhost:8080/",
          "height": 50
        }
      },
      "source": [
        "def matchessss():\n",
        "\n",
        "    a=input(\"string: \")\n",
        "    matchs = re.sub(r'(\\d{4})-(\\d{1,2})-(\\d{1,2})',r'\\3-\\2-\\1',a)\n",
        "    print (matchs)\n",
        "  \n",
        "matchessss()"
      ],
      "execution_count": 0,
      "outputs": [
        {
          "output_type": "stream",
          "text": [
            "string: 2019-22-11\n",
            "11-22-2019\n"
          ],
          "name": "stdout"
        }
      ]
    },
    {
      "cell_type": "code",
      "metadata": {
        "id": "PUAeUc69Wnbj",
        "colab_type": "code",
        "outputId": "4397ab54-042a-4a1d-8c12-db4d2f181489",
        "colab": {
          "base_uri": "https://localhost:8080/",
          "height": 50
        }
      },
      "source": [
        "def matchessssss():\n",
        "  x=1\n",
        "  while x:\n",
        "    a=input(\"string: \")\n",
        "    match=re.search(r'(\\b\\w{3}\\b)',a)\n",
        "    if match: \n",
        "      print(match.group())\n",
        "      x=0\n",
        "    break;\n",
        "matchessssss()"
      ],
      "execution_count": 0,
      "outputs": [
        {
          "output_type": "stream",
          "text": [
            "string: The quick brown fox jumps over the lazy dog\n",
            "The\n"
          ],
          "name": "stdout"
        }
      ]
    },
    {
      "cell_type": "code",
      "metadata": {
        "id": "ge4nEVT0a99C",
        "colab_type": "code",
        "outputId": "ea3d97ef-9beb-4475-ed13-cb9309fe3960",
        "colab": {
          "base_uri": "https://localhost:8080/",
          "height": 50
        }
      },
      "source": [
        "def matchessssss():\n",
        "\n",
        "    a=input(\"string: \")\n",
        "    matchs = re.sub(r'(\\w)([A-Z])',r'\\1_\\2',a)\n",
        "    print (matchs)\n",
        "  \n",
        "matchessssss()"
      ],
      "execution_count": 0,
      "outputs": [
        {
          "output_type": "stream",
          "text": [
            "string: myVariable\n",
            "my_Variable\n"
          ],
          "name": "stdout"
        }
      ]
    },
    {
      "cell_type": "code",
      "metadata": {
        "id": "1kDS75wocw1Z",
        "colab_type": "code",
        "outputId": "214f4ca0-83a1-4e33-8036-9b2d5a54291d",
        "colab": {
          "base_uri": "https://localhost:8080/",
          "height": 50
        }
      },
      "source": [
        "def matchessssssss():\n",
        "  x=1\n",
        "  while x:\n",
        "    a=input(\"string: \")\n",
        "    match=re.search(r'\\w+ly',a)\n",
        "    if match: \n",
        "      print(match.group())\n",
        "      x=0\n",
        "    else:\n",
        "      print(\"No adverbs were found\")\n",
        "    break;\n",
        "matchessssssss()"
      ],
      "execution_count": 0,
      "outputs": [
        {
          "output_type": "stream",
          "text": [
            "string: The early bird catches the worm\n",
            "early\n"
          ],
          "name": "stdout"
        }
      ]
    },
    {
      "cell_type": "code",
      "metadata": {
        "id": "RNN35z7WdnWp",
        "colab_type": "code",
        "outputId": "48f862c1-5774-412d-bdb2-4bab5b76c38d",
        "colab": {
          "base_uri": "https://localhost:8080/",
          "height": 50
        }
      },
      "source": [
        "def matchesssssssss():\n",
        "\n",
        "    a=input(\"string: \")\n",
        "    matchs = re.sub(' +', ' ',a)\n",
        "    print (matchs)\n",
        "  \n",
        "matchesssssssss()"
      ],
      "execution_count": 0,
      "outputs": [
        {
          "output_type": "stream",
          "text": [
            "string: Better    late    than    never\n",
            "Better late than never\n"
          ],
          "name": "stdout"
        }
      ]
    },
    {
      "cell_type": "code",
      "metadata": {
        "id": "B1hHD0-aeuDo",
        "colab_type": "code",
        "outputId": "ca545697-5a3a-450f-dbd5-591451e41421",
        "colab": {
          "base_uri": "https://localhost:8080/",
          "height": 50
        }
      },
      "source": [
        "def matchesssssssss():\n",
        "  x=1\n",
        "  while x:\n",
        "    a=input(\"string: \")\n",
        "    match=re.search(r'[s]+\\w+[s]*',a)\n",
        "    if match: \n",
        "      print(\"try again\")\n",
        "      \n",
        "    else:\n",
        "      print(match.group())\n",
        "      x=0\n",
        "    break;\n",
        "matchesssssssss()"
      ],
      "execution_count": 0,
      "outputs": [
        {
          "output_type": "stream",
          "text": [
            "string: dfhbdfbd djfnsjnfd sfgas\n",
            "try again\n"
          ],
          "name": "stdout"
        }
      ]
    },
    {
      "cell_type": "code",
      "metadata": {
        "id": "4_GXMOVcfhgv",
        "colab_type": "code",
        "outputId": "dcb99cf2-b4cd-4785-ce52-bef492de0f42",
        "colab": {
          "base_uri": "https://localhost:8080/",
          "height": 34
        }
      },
      "source": [
        "def matchesssssssss():\n",
        "\n",
        "    a=\"1970-01-01\"\n",
        "    matchs = re.sub('(\\D)([0])',r'',a)\n",
        "    print (matchs)\n",
        "  \n",
        "matchesssssssss()"
      ],
      "execution_count": 0,
      "outputs": [
        {
          "output_type": "stream",
          "text": [
            "1970-1-1\n"
          ],
          "name": "stdout"
        }
      ]
    },
    {
      "cell_type": "code",
      "metadata": {
        "id": "3r8Oq21sjdDg",
        "colab_type": "code",
        "outputId": "50b8ca7c-8d5a-475b-b1c7-f8f63c1581e0",
        "colab": {
          "base_uri": "https://localhost:8080/",
          "height": 50
        }
      },
      "source": [
        "r\"(.)\\1*\"\n",
        "def matchessssssssssss():\n",
        "  x=1\n",
        "  while x:\n",
        "    a=input(\"string: \")\n",
        "    match=re.search(r\"(.)4*\",a)\n",
        "    if match: \n",
        "      print(\"symbol \" + str(match.group())+\" matched at least 4 times\")\n",
        "      x=0\n",
        "    else:\n",
        "      print(\"try again\")\n",
        "    break;\n",
        "matchessssssssssss()"
      ],
      "execution_count": 0,
      "outputs": [
        {
          "output_type": "stream",
          "text": [
            "string: atagttcgacctgggtatcccttttgaaaaagtatctactagagggtatcttcaa\n",
            "symbol a matched at least 4 times\n"
          ],
          "name": "stdout"
        }
      ]
    },
    {
      "cell_type": "code",
      "metadata": {
        "id": "YO5Z77Bsk7co",
        "colab_type": "code",
        "outputId": "79e5aba6-9c8a-4508-b269-c9b3671adb5b",
        "colab": {
          "base_uri": "https://localhost:8080/",
          "height": 70
        }
      },
      "source": [
        "def matchez():\n",
        "\n",
        "    a=input(\"string: \")\n",
        "    match=re.findall(r'\\S+@\\S+',a)\n",
        "    print (match)\n",
        "     \n",
        "\n",
        "matchez()"
      ],
      "execution_count": 0,
      "outputs": [
        {
          "output_type": "stream",
          "text": [
            "string: Please submit your article online at https://biocoreopen.org/ijcf/submit_manuscript.php or you can email your attachments to ijcf@biocoreopen.info (or) editor.forensicjournal@gmail.com\n",
            "['ijcf@biocoreopen.info', 'editor.forensicjournal@gmail.com']\n"
          ],
          "name": "stdout"
        }
      ]
    },
    {
      "cell_type": "code",
      "metadata": {
        "id": "Qhpw3hx2Yq5k",
        "colab_type": "code",
        "colab": {}
      },
      "source": [
        ""
      ],
      "execution_count": 0,
      "outputs": []
    }
  ]
}