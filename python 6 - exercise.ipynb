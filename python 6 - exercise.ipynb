{
 "cells": [
  {
   "cell_type": "markdown",
   "metadata": {},
   "source": [
    "# W9 - Python regular expressions\n",
    "**To solve following problems, use regular expressions**"
   ]
  },
  {
   "cell_type": "markdown",
   "metadata": {},
   "source": [
    "# 1. Write function that matches a string that has an 'a' followed by anything, ending in 'b'\n",
    "Example\n",
    "```python\n",
    ">>> print(text_match(\"aabbbbdb\"))\n",
    "True\n",
    ">>> print(text_match(\"aabAbbbc\"))\n",
    "False\n",
    "```"
   ]
  },
  {
   "cell_type": "code",
   "execution_count": null,
   "metadata": {},
   "outputs": [],
   "source": []
  },
  {
   "cell_type": "markdown",
   "metadata": {},
   "source": [
    "# 2. Write function that matches string if it starts with word\n",
    "Example\n",
    "```python\n",
    ">>> print(text_match(\"Hello world!\"))\n",
    "True\n",
    ">>> print(text_match(\" Hello world!\"))\n",
    "False\n",
    "```"
   ]
  },
  {
   "cell_type": "code",
   "execution_count": null,
   "metadata": {},
   "outputs": [],
   "source": []
  },
  {
   "cell_type": "markdown",
   "metadata": {},
   "source": [
    "# 3. Write function to convert a date of yyyy-mm-dd format to dd-mm-yyyy format\n",
    "Example\n",
    "```python\n",
    ">>> print(convert_date(\"2018-11-01\"))\n",
    "```\n",
    "```\n",
    "01-11-2018\n",
    "```"
   ]
  },
  {
   "cell_type": "code",
   "execution_count": null,
   "metadata": {},
   "outputs": [],
   "source": []
  },
  {
   "cell_type": "markdown",
   "metadata": {},
   "source": [
    "# 4. Write function to search for words containing 3 letters in the given string\n",
    "Resulting words are sorted in alphabetical order\n",
    "Example\n",
    "```python\n",
    ">>> print(search words('The quick brown fox jumps over the lazy dog.'))\n",
    "dog fox the\n",
    "```"
   ]
  },
  {
   "cell_type": "code",
   "execution_count": null,
   "metadata": {},
   "outputs": [],
   "source": []
  },
  {
   "cell_type": "markdown",
   "metadata": {},
   "source": [
    "# 5. Write function to convert camel case string to snake case string\n",
    "Example\n",
    "```python\n",
    ">>> print(convert_style(\"myVariable\"))\n",
    "my_variable\n",
    "```"
   ]
  },
  {
   "cell_type": "code",
   "execution_count": null,
   "metadata": {},
   "outputs": [],
   "source": []
  },
  {
   "cell_type": "markdown",
   "metadata": {},
   "source": [
    "# 6. Write function to find all adverbs in the given string\n",
    "Example\n",
    "```python\n",
    ">>> print(find_adverbs('The early bird catches the worm.'))\n",
    "early\n",
    ">>> print(find_adverbs('Better late than never.'))\n",
    "No adverbs were found\n",
    "```"
   ]
  },
  {
   "cell_type": "code",
   "execution_count": null,
   "metadata": {},
   "outputs": [],
   "source": []
  },
  {
   "cell_type": "markdown",
   "metadata": {},
   "source": [
    "# 7. Write function to remove multiple spaces in the given string\n",
    "\n",
    "```python\n",
    ">>> print(remove_multiple_spaces('Better    late    than    never.'))\n",
    "Better late than never.\n",
    "```"
   ]
  },
  {
   "cell_type": "code",
   "execution_count": null,
   "metadata": {},
   "outputs": [],
   "source": []
  },
  {
   "cell_type": "markdown",
   "metadata": {},
   "source": [
    "# 8. Write function that matches word that does not starts and ends with s in the given string\n",
    "Example\n",
    "```python\n",
    ">>> print(word_match_not_s(\"A chain is only as strong as its weakest link.\"))\n",
    "a\n",
    "chain\n",
    "only\n",
    "weakest\n",
    "link\n",
    "```"
   ]
  },
  {
   "cell_type": "code",
   "execution_count": null,
   "metadata": {},
   "outputs": [],
   "source": []
  },
  {
   "cell_type": "markdown",
   "metadata": {},
   "source": [
    "# 9. Write function to remove leading zeroes from month and day\n",
    "Example\n",
    "```python\n",
    ">>> print(remove_zeroes(\"1970-01-01\"))\n",
    "1970-1-1\n",
    "```"
   ]
  },
  {
   "cell_type": "code",
   "execution_count": null,
   "metadata": {},
   "outputs": [],
   "source": []
  },
  {
   "cell_type": "markdown",
   "metadata": {},
   "source": [
    "# 10. Write function that will find sequence of 4 and more same symbols in given string\n",
    "Example\n",
    "```python\n",
    ">>> print(find_repetitions('atagttcgacctgggtatcccttttgaaaaagtatctactagagggtatcttcaa'))\n",
    "Symbol a matched at least 4 times\n",
    "Symbol t matched at least 4 times\n",
    "```"
   ]
  },
  {
   "cell_type": "code",
   "execution_count": null,
   "metadata": {},
   "outputs": [],
   "source": []
  },
  {
   "cell_type": "markdown",
   "metadata": {},
   "source": [
    "# BONUS: Write function to extract email addresses from the text using regular expressions\n",
    "```python\n",
    "text = '''Please submit your article online at https://biocoreopen.org/ijcf/submit_manuscript.php or you can email your attachments to ijcf@biocoreopen.info (or) editor.forensicjournal@gmail.com'''\n",
    ">>> extract_emails(text)\n",
    "ijcf@biocoreopen.info\n",
    "editor.forensicjournal@gmail.com\n",
    "```"
   ]
  },
  {
   "cell_type": "code",
   "execution_count": null,
   "metadata": {},
   "outputs": [],
   "source": []
  }
 ],
 "metadata": {
  "kernelspec": {
   "display_name": "Python 3",
   "language": "python",
   "name": "python3"
  },
  "language_info": {
   "codemirror_mode": {
    "name": "ipython",
    "version": 3
   },
   "file_extension": ".py",
   "mimetype": "text/x-python",
   "name": "python",
   "nbconvert_exporter": "python",
   "pygments_lexer": "ipython3",
   "version": "3.6.2"
  }
 },
 "nbformat": 4,
 "nbformat_minor": 2
}
