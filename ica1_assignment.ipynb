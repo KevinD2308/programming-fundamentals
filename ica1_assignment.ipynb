{
 "cells": [
  {
   "cell_type": "markdown",
   "metadata": {},
   "source": [
    "## Question 1\n",
    "Write funtion `print_box` which takes two parameters (width and height) and prints box using * symbols\n",
    "\n",
    "```python\n",
    ">>> print_box(3,4)\n",
    "***\n",
    "* *\n",
    "* *\n",
    "***\n",
    ">>> print_box(2,2)\n",
    "**\n",
    "**\n",
    ">>> print_box(0,2)\n",
    "```\n"
   ]
  },
  {
   "cell_type": "code",
   "execution_count": 1,
   "metadata": {},
   "outputs": [],
   "source": [
    "def print_box(width, height):\n",
    "    width = int(width)\n",
    "    height = int(height)\n",
    "    print (\"*\" * width)\n",
    "    for number in range(height - 2):\n",
    "        print(\"*\" + (\" \") * (width - 2) + \"*\")\n",
    "    print (\"*\" * width)"
   ]
  },
  {
   "cell_type": "code",
   "execution_count": 2,
   "metadata": {},
   "outputs": [
    {
     "name": "stdout",
     "output_type": "stream",
     "text": [
      "***\n",
      "* *\n",
      "* *\n",
      "***\n"
     ]
    }
   ],
   "source": [
    "print_box(3,4)"
   ]
  },
  {
   "cell_type": "code",
   "execution_count": 3,
   "metadata": {},
   "outputs": [
    {
     "name": "stdout",
     "output_type": "stream",
     "text": [
      "**\n",
      "**\n"
     ]
    }
   ],
   "source": [
    "print_box(2,2)"
   ]
  },
  {
   "cell_type": "code",
   "execution_count": 4,
   "metadata": {},
   "outputs": [
    {
     "name": "stdout",
     "output_type": "stream",
     "text": [
      "\n",
      "\n"
     ]
    }
   ],
   "source": [
    "print_box(0,2)"
   ]
  },
  {
   "cell_type": "markdown",
   "metadata": {},
   "source": [
    "## Question 2\n",
    "\n",
    "Write function `get_longest_element` in Python that will take list as an argument and will **return** the longest element from the list, e.g.\n",
    "```python\n",
    ">>> longest_item = get_longest_element(['banana','apple', 'mango', 'kiwi'])\n",
    ">>> longest_item\n",
    "'banana'\n",
    "```"
   ]
  },
  {
   "cell_type": "code",
   "execution_count": 5,
   "metadata": {},
   "outputs": [],
   "source": [
    "def get_longest_element(items_list):\n",
    "    return sorted(items_list, key=lambda x: len(x), reverse=True)[0]"
   ]
  },
  {
   "cell_type": "code",
   "execution_count": 6,
   "metadata": {},
   "outputs": [
    {
     "data": {
      "text/plain": [
       "'banana'"
      ]
     },
     "execution_count": 6,
     "metadata": {},
     "output_type": "execute_result"
    }
   ],
   "source": [
    "get_longest_element(['banana','apple', 'mango', 'kiwi'])"
   ]
  },
  {
   "cell_type": "markdown",
   "metadata": {},
   "source": [
    "## Question 3\n",
    "\n",
    "Using list comprehensions write function `consonant_to_uppercase` in Python that takes string containing only letters as a parameter and transforms all consonants within the string to uppercase and vowels to lowercase, e.g.\n",
    "```python\n",
    ">>> edited_string = consonant_to_uppercase('python')\n",
    ">>> edited_string\n",
    "'PYTHoN'\n",
    ">>> edited_string = consonant_to_uppercase('Apple')\n",
    ">>> edited_string\n",
    "'aPPLe'\n",
    "```\n",
    "*Note*: vowels are `aeoui`, consonants are all other letters"
   ]
  },
  {
   "cell_type": "code",
   "execution_count": 7,
   "metadata": {},
   "outputs": [],
   "source": [
    "def consonant_to_uppercase(word):\n",
    "    return''.join([w.lower() if w.lower() in 'aeoui' else w.upper() for w in word])"
   ]
  },
  {
   "cell_type": "code",
   "execution_count": 8,
   "metadata": {},
   "outputs": [
    {
     "data": {
      "text/plain": [
       "'PYTHoN'"
      ]
     },
     "execution_count": 8,
     "metadata": {},
     "output_type": "execute_result"
    }
   ],
   "source": [
    "edited_string = consonant_to_uppercase('python')\n",
    "edited_string"
   ]
  },
  {
   "cell_type": "code",
   "execution_count": 9,
   "metadata": {},
   "outputs": [
    {
     "data": {
      "text/plain": [
       "'aPPLe'"
      ]
     },
     "execution_count": 9,
     "metadata": {},
     "output_type": "execute_result"
    }
   ],
   "source": [
    "edited_string = consonant_to_uppercase('Apple')\n",
    "edited_string"
   ]
  },
  {
   "cell_type": "markdown",
   "metadata": {},
   "source": [
    "## Question 4\n",
    "\n",
    "Write function `compute_mean` in Python that takes 3 values and then compute mean of these three values \n",
    "(**do not use the existing mean function**) and then **print** following sentence (```'Mean value is `value`.'```), e.g.\n",
    "```python\n",
    ">>> compute_mean(3, 12, 6)\n",
    "Mean value is 7.0.\n",
    ">>> compute_mean(5, 0, 4)\n",
    "Mean value is 3.0.\n",
    "```"
   ]
  },
  {
   "cell_type": "code",
   "execution_count": 10,
   "metadata": {},
   "outputs": [],
   "source": [
    "def compute_mean(num1, num2, num3):\n",
    "    print('Mean value is {}.'.format((num1 + num2 + num3)/3))"
   ]
  },
  {
   "cell_type": "code",
   "execution_count": 11,
   "metadata": {},
   "outputs": [
    {
     "name": "stdout",
     "output_type": "stream",
     "text": [
      "Mean value is 7.0.\n"
     ]
    }
   ],
   "source": [
    "compute_mean(3, 12, 6)"
   ]
  },
  {
   "cell_type": "code",
   "execution_count": 12,
   "metadata": {},
   "outputs": [
    {
     "name": "stdout",
     "output_type": "stream",
     "text": [
      "Mean value is 3.0.\n"
     ]
    }
   ],
   "source": [
    "compute_mean(5, 0, 4)"
   ]
  },
  {
   "cell_type": "markdown",
   "metadata": {},
   "source": [
    "## Question 5\n",
    "\n",
    "Write function `make_palindrome` in Python that takes string as a parameter (it will contain only letters) and **returns** a palindrome containing it. The palindrome doesn't have to be the shortest one, but don't repeat the letter in the middle e.g.\n",
    "```python\n",
    ">>> print(make_palindrome('python'))\n",
    "'pythonohtyp'\n",
    ">>> print(make_palindrome('abba'))\n",
    "'abbabba'\n",
    ">>> print(make_palindrome(''))\n",
    "''\n",
    ">>> print(make_palindrome('Z'))\n",
    "'Z'\n",
    "```"
   ]
  },
  {
   "cell_type": "code",
   "execution_count": 13,
   "metadata": {},
   "outputs": [],
   "source": [
    "def make_palindrome(in_str):\n",
    "    return in_str[:-1] + in_str[::-1]"
   ]
  },
  {
   "cell_type": "code",
   "execution_count": 14,
   "metadata": {},
   "outputs": [
    {
     "data": {
      "text/plain": [
       "'Z'"
      ]
     },
     "execution_count": 14,
     "metadata": {},
     "output_type": "execute_result"
    }
   ],
   "source": [
    "make_palindrome('Z')"
   ]
  },
  {
   "cell_type": "code",
   "execution_count": 15,
   "metadata": {},
   "outputs": [
    {
     "data": {
      "text/plain": [
       "''"
      ]
     },
     "execution_count": 15,
     "metadata": {},
     "output_type": "execute_result"
    }
   ],
   "source": [
    "make_palindrome('')"
   ]
  },
  {
   "cell_type": "markdown",
   "metadata": {},
   "source": [
    "## Question 6\n",
    "\n",
    "Write a function `multiplication_table` that takes a single argument - a number **until** which to print multiplication tables. The multiplication table for 1 is trivial, don't include it. Separate numbers visually and format the table **exactly** as indicated in the examples\n",
    "\n",
    "```python\n",
    ">>> multiplication_table(3)\n",
    "------2-------\n",
    "2 X 2 = 4\n",
    "2 X 3 = 6\n",
    "2 X 4 = 8\n",
    "2 X 5 = 10\n",
    "2 X 6 = 12\n",
    "2 X 7 = 14\n",
    "2 X 8 = 16\n",
    "2 X 9 = 18\n",
    "2 X 10 = 20\n",
    "------3-------\n",
    "3 X 2 = 6\n",
    "3 X 3 = 9\n",
    "3 X 4 = 12\n",
    "3 X 5 = 15\n",
    "3 X 6 = 18\n",
    "3 X 7 = 21\n",
    "3 X 8 = 24\n",
    "3 X 9 = 27\n",
    "3 X 10 = 30\n",
    ">>> multiplication_table(4)\n",
    "------2-------\n",
    "2 X 2 = 4\n",
    "2 X 3 = 6\n",
    "2 X 4 = 8\n",
    "2 X 5 = 10\n",
    "2 X 6 = 12\n",
    "2 X 7 = 14\n",
    "2 X 8 = 16\n",
    "2 X 9 = 18\n",
    "2 X 10 = 20\n",
    "------3-------\n",
    "3 X 2 = 6\n",
    "3 X 3 = 9\n",
    "3 X 4 = 12\n",
    "3 X 5 = 15\n",
    "3 X 6 = 18\n",
    "3 X 7 = 21\n",
    "3 X 8 = 24\n",
    "3 X 9 = 27\n",
    "3 X 10 = 30\n",
    "------4-------\n",
    "4 X 2 = 8\n",
    "4 X 3 = 12\n",
    "4 X 4 = 16\n",
    "4 X 5 = 20\n",
    "4 X 6 = 24\n",
    "4 X 7 = 28\n",
    "4 X 8 = 32\n",
    "4 X 9 = 36\n",
    "4 X 10 = 40\n",
    "```"
   ]
  },
  {
   "cell_type": "code",
   "execution_count": 16,
   "metadata": {},
   "outputs": [
    {
     "name": "stdout",
     "output_type": "stream",
     "text": [
      "------2-------\n",
      "2 X 2 = 4\n",
      "2 X 3 = 6\n",
      "2 X 4 = 8\n",
      "2 X 5 = 10\n",
      "2 X 6 = 12\n",
      "2 X 7 = 14\n",
      "2 X 8 = 16\n",
      "2 X 9 = 18\n",
      "2 X 10 = 20\n",
      "------3-------\n",
      "3 X 2 = 6\n",
      "3 X 3 = 9\n",
      "3 X 4 = 12\n",
      "3 X 5 = 15\n",
      "3 X 6 = 18\n",
      "3 X 7 = 21\n",
      "3 X 8 = 24\n",
      "3 X 9 = 27\n",
      "3 X 10 = 30\n",
      "------4-------\n",
      "4 X 2 = 8\n",
      "4 X 3 = 12\n",
      "4 X 4 = 16\n",
      "4 X 5 = 20\n",
      "4 X 6 = 24\n",
      "4 X 7 = 28\n",
      "4 X 8 = 32\n",
      "4 X 9 = 36\n",
      "4 X 10 = 40\n"
     ]
    }
   ],
   "source": [
    "def multiplication_table(until):\n",
    "    for j in range(2, until + 1):\n",
    "        print('------{}-------'.format(j))\n",
    "        for i in range(2, 11):\n",
    "            value = j * i\n",
    "            print('{} X {} = {}'.format(j, i, value))\n",
    "\n",
    "multiplication_table(4)"
   ]
  },
  {
   "cell_type": "markdown",
   "metadata": {},
   "source": [
    "## Question 7\n",
    "Write function `count_consonants` in Python that takes two parameters - string and output file name. Your function should write the string parameter to a file, count occurrence of consonants in that string and add the result to the file. Make sure the file is formatted exactly as shown, e. g.\n",
    "```python\n",
    ">>> quote = 'The best preparation for tomorrow is doing your best today.'\n",
    ">>> count_consonants_file(quote, 'result.txt')\n",
    "```\n",
    "When you open `'result.txt'`, you'll see:\n",
    "```python\n",
    "Input string: The best preparation for tomorrow is doing your best today.\n",
    "Number of consonants: 30\n",
    "```\n",
    "\n",
    "For this exercise, the consonants are: B, C, D, F, G, H, J, K, L, M, N, P, Q, R, S, T, V, W, X, Y and Z. The case of the letters doesn't matter."
   ]
  },
  {
   "cell_type": "code",
   "execution_count": 17,
   "metadata": {},
   "outputs": [],
   "source": [
    "def count_consonants(phrase, filename):\n",
    "    consonants = \"bcdfghjklmnpqrstvwxyz\"\n",
    "    cons = 0\n",
    "    for letter in phrase:\n",
    "        if letter.lower() in consonants:\n",
    "            cons += 1\n",
    "    with open(filename, 'w') as f:\n",
    "        f.write('Input string: {} \\n'.format(phrase))\n",
    "        f.write('Number of consonants: {}'.format(cons))"
   ]
  },
  {
   "cell_type": "code",
   "execution_count": 18,
   "metadata": {
    "scrolled": true
   },
   "outputs": [
    {
     "name": "stdout",
     "output_type": "stream",
     "text": [
      "Input string: The best preparation for tomorrow is doing your best today. \r\n",
      "Number of consonants: 30"
     ]
    }
   ],
   "source": [
    "quote = \"The best preparation for tomorrow is doing your best today.\"\n",
    "count_consonants(quote, 'result.txt')\n",
    "\n",
    "!cat result.txt"
   ]
  },
  {
   "cell_type": "markdown",
   "metadata": {},
   "source": [
    "## Question 8\n",
    "\n",
    "Write function `transform_memory_units` in Python that takes 2 parameters: first string is an original value with units, the second string is a unit to which the value should be transformed. Output should be string, e.g.\n",
    "\n",
    "```python\n",
    ">>> result = transform_memory_units('150 kB', 'MB')\n",
    ">>> result\n",
    "0.15 MB\n",
    "\n",
    ">>> result = transform_memory_units('15 GB', 'MB')\n",
    ">>> result\n",
    "15000.0 MB\n",
    "\n",
    ">>> result = transform_memory_units('1.3 kB', 'bytes')\n",
    ">>> result\n",
    "1300.0 bytes\n",
    "```\n",
    "*Note*: The function must support at least these units: MB, kB, GB, bytes. The value will be only digits separated by a single space from the unit."
   ]
  },
  {
   "cell_type": "code",
   "execution_count": 19,
   "metadata": {},
   "outputs": [
    {
     "data": {
      "text/plain": [
       "'0.15 MB'"
      ]
     },
     "execution_count": 19,
     "metadata": {},
     "output_type": "execute_result"
    }
   ],
   "source": [
    "def transform_memory_units(value, to_unit):\n",
    "    conversions = {\n",
    "        'bytes': 1,\n",
    "        'kB': 1000,\n",
    "        'MB': 1000000,\n",
    "        'GB': 1000000000,\n",
    "    }\n",
    "    number, from_unit = value.split(' ', maxsplit=1)\n",
    "    base_value = float(number) * conversions[from_unit]\n",
    "    new_value = base_value / conversions[to_unit]\n",
    "    return f'{new_value} {to_unit}'\n",
    "\n",
    "transform_memory_units('150 kB', 'MB')"
   ]
  },
  {
   "cell_type": "code",
   "execution_count": 20,
   "metadata": {},
   "outputs": [
    {
     "data": {
      "text/plain": [
       "'15000.0 MB'"
      ]
     },
     "execution_count": 20,
     "metadata": {},
     "output_type": "execute_result"
    }
   ],
   "source": [
    "transform_memory_units('15 GB', 'MB')"
   ]
  },
  {
   "cell_type": "code",
   "execution_count": 21,
   "metadata": {},
   "outputs": [
    {
     "name": "stdout",
     "output_type": "stream",
     "text": [
      "1.2 kB\n"
     ]
    }
   ],
   "source": [
    "print(transform_memory_units('1200 bytes', 'kB'))"
   ]
  },
  {
   "cell_type": "code",
   "execution_count": 22,
   "metadata": {},
   "outputs": [
    {
     "data": {
      "text/plain": [
       "'1300.0 bytes'"
      ]
     },
     "execution_count": 22,
     "metadata": {},
     "output_type": "execute_result"
    }
   ],
   "source": [
    "transform_memory_units('1.3 kB', 'bytes')"
   ]
  },
  {
   "cell_type": "markdown",
   "metadata": {},
   "source": [
    "## Question 9\n",
    "\n",
    "Write function `generate_sentences` in Python to generate and **return** a list of all sentences constructed by combining each of a list of subjects, verbs and objects. The lists of subjects, verbs and objects are passed as parameters to the function, e.g.\n",
    "```python\n",
    ">>> sentences = generate_sentences(['I', 'You'], ['play', 'love'], ['hockey', 'football'])\n",
    ">>> sentences\n",
    "['I play hockey.',\n",
    " 'I play football.',\n",
    " 'I love hockey.',\n",
    " 'I love football.',\n",
    " 'You play hockey.',\n",
    " 'You play football.',\n",
    " 'You love hockey.',\n",
    " 'You love football.']\n",
    ">>> sentences = generate_sentences(['I', 'You', 'We'], ['play', 'love'], ['hockey', 'football'])\n",
    ">>> sentences\n",
    "['I play hockey.',\n",
    " 'I play football.',\n",
    " 'I love hockey.',\n",
    " 'I love football.',\n",
    " 'You play hockey.',\n",
    " 'You play football.',\n",
    " 'You love hockey.',\n",
    " 'You love football.',\n",
    " 'We play hockey.',\n",
    " 'We play football.',\n",
    " 'We love hockey.',\n",
    " 'We love football.']\n",
    "```"
   ]
  },
  {
   "cell_type": "code",
   "execution_count": 23,
   "metadata": {},
   "outputs": [],
   "source": [
    "def generate_sentences(subjects, verbs, objects):\n",
    "    result = []\n",
    "    for subject in subjects:\n",
    "        for verb in verbs:\n",
    "            for current_object in objects:\n",
    "                result.append('{} {} {}.'.format(subject, verb, current_object))\n",
    "    return result"
   ]
  },
  {
   "cell_type": "code",
   "execution_count": 24,
   "metadata": {},
   "outputs": [
    {
     "data": {
      "text/plain": [
       "['I play hockey.',\n",
       " 'I play football.',\n",
       " 'I love hockey.',\n",
       " 'I love football.',\n",
       " 'You play hockey.',\n",
       " 'You play football.',\n",
       " 'You love hockey.',\n",
       " 'You love football.']"
      ]
     },
     "execution_count": 24,
     "metadata": {},
     "output_type": "execute_result"
    }
   ],
   "source": [
    "sentences = generate_sentences(['I', 'You',], ['play', 'love'], ['hockey', 'football'])\n",
    "sentences"
   ]
  },
  {
   "cell_type": "markdown",
   "metadata": {},
   "source": [
    "## Question 10\n",
    "Write a function `count_occurrence` in Python that will take paragraph of text as a parameter, count occurrence of words in it and **print** top 5, e.g.\n",
    "```python\n",
    ">>> paragraph = \"\"\"Astronomical seasons refer to the position of Earth's orbit in relation to the sun taking into account equinoxes and solstices. Meteorological seasons are instead based on the annual temperature cycle and measure the meteorological state as well as coinciding with the calendar to determine a clear transition between the seasons.\"\"\"\n",
    ">>> count_occurrence(paragraph)\n",
    "6 the\n",
    "3 seasons\n",
    "3 to\n",
    "2 as\n",
    "2 and\n",
    "```\n",
    "*Note*: You need to handle letter casing (Astronomical and astronomical are the same word); \n",
    "    also, punctuation is not a word. You can assume \"Earth's\" are two words or one word, whichever is easier for you."
   ]
  },
  {
   "cell_type": "code",
   "execution_count": 25,
   "metadata": {},
   "outputs": [
    {
     "name": "stdout",
     "output_type": "stream",
     "text": [
      "6 the\n",
      "3 to\n",
      "3 seasons\n",
      "2 and\n",
      "2 as\n"
     ]
    }
   ],
   "source": [
    "import re\n",
    "\n",
    "paragraph = \"\"\"Astronomical seasons refer to the position of Earth's orbit in relation to the sun taking \n",
    "into account equinoxes and solstices. Meteorological seasons are instead based on the annual temperature \n",
    "cycle and measure the meteorological state as well as coinciding with the calendar to determine a clear \n",
    "transition between the seasons.\"\"\"\n",
    "\n",
    "def count_occurrence(paragraph):\n",
    "    tokens = re.findall(r'\\w+', paragraph)\n",
    "    occur = [[x,tokens.count(x)] for x in set(tokens)]\n",
    "    occur.sort(key=lambda x: x[1], reverse=True)\n",
    "    for item in occur[:5]:\n",
    "        print('{1} {0}'.format(item[0], item[1]))\n",
    "        \n",
    "count_occurrence(paragraph)"
   ]
  },
  {
   "cell_type": "code",
   "execution_count": null,
   "metadata": {},
   "outputs": [],
   "source": []
  }
 ],
 "metadata": {
  "kernelspec": {
   "display_name": "Python 3",
   "language": "python",
   "name": "python3"
  },
  "language_info": {
   "codemirror_mode": {
    "name": "ipython",
    "version": 3
   },
   "file_extension": ".py",
   "mimetype": "text/x-python",
   "name": "python",
   "nbconvert_exporter": "python",
   "pygments_lexer": "ipython3",
   "version": "3.6.2"
  }
 },
 "nbformat": 4,
 "nbformat_minor": 2
}
