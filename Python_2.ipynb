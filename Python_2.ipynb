{
  "nbformat": 4,
  "nbformat_minor": 0,
  "metadata": {
    "colab": {
      "name": "Python 2.ipynb",
      "provenance": [],
      "collapsed_sections": [],
      "include_colab_link": true
    },
    "kernelspec": {
      "name": "python3",
      "display_name": "Python 3"
    }
  },
  "cells": [
    {
      "cell_type": "markdown",
      "metadata": {
        "id": "view-in-github",
        "colab_type": "text"
      },
      "source": [
        "<a href=\"https://colab.research.google.com/github/KevinD2308/programming-fundamentals/blob/master/Python_2.ipynb\" target=\"_parent\"><img src=\"https://colab.research.google.com/assets/colab-badge.svg\" alt=\"Open In Colab\"/></a>"
      ]
    },
    {
      "cell_type": "code",
      "metadata": {
        "id": "ScnIXx056X92",
        "colab_type": "code",
        "outputId": "452bbb75-ec41-4463-e972-0e4019e22047",
        "colab": {
          "base_uri": "https://localhost:8080/",
          "height": 34
        }
      },
      "source": [
        "fruits = {'banana':3,'apple':2, 'mango':1, 'kiwi':5}\n",
        "fruits_list = [ [key]* value for key,value in fruits.items()]\n",
        "print (fruits_list)"
      ],
      "execution_count": 1,
      "outputs": [
        {
          "output_type": "stream",
          "text": [
            "[['banana', 'banana', 'banana'], ['apple', 'apple'], ['mango'], ['kiwi', 'kiwi', 'kiwi', 'kiwi', 'kiwi']]\n"
          ],
          "name": "stdout"
        }
      ]
    },
    {
      "cell_type": "code",
      "metadata": {
        "id": "1wzCeAcs6dcD",
        "colab_type": "code",
        "outputId": "55ad0c7b-eea1-4418-9cf9-c0e549a1ee22",
        "colab": {
          "base_uri": "https://localhost:8080/",
          "height": 34
        }
      },
      "source": [
        "fruits = ['banana','apple', 'mango', 'kiwi']\n",
        "\n",
        "shortest_length = len (fruits[0])\n",
        "shortest_fruit = fruits [0]\n",
        "for fruit in fruits:\n",
        "  if len(fruit) < shortest_length:\n",
        "    shortest_length = len (fruit)\n",
        "    shortest_fruit = fruit\n",
        "    \n",
        "print (shortest_fruit)"
      ],
      "execution_count": 0,
      "outputs": [
        {
          "output_type": "stream",
          "text": [
            "kiwi\n"
          ],
          "name": "stdout"
        }
      ]
    },
    {
      "cell_type": "code",
      "metadata": {
        "id": "4owOR5QL6fky",
        "colab_type": "code",
        "outputId": "7d1d42f7-e792-4979-f1ae-2036eb1a107e",
        "colab": {
          "base_uri": "https://localhost:8080/",
          "height": 34
        }
      },
      "source": [
        "ex_text = '''What a to do to die today at a 1/4 or 2 to 2. \n",
        "A terrible difficult thing to say but a harder thing still to do. \n",
        "The dragon will come at the beat of the drum with a rat-tat-tat-tat-tat-tattoo \n",
        "at a 1/4 or 2 to 2 today, at a 1/4 or 2 to 2.'''.lower()\n",
        "\n",
        "set_numbers = {\"0\",\"1\",\"2\",\"3\",\"4\",\"5\",\"6\",\"7\",\"8\",\"9\"}\n",
        "set_letters = {\"a\",\"b\",\"c\",\"d\",\"e\",\"f\",\"g\",\"h\",\"i\",\"j\",\"k\",\"l\",\"m\",\"n\",\"o\",\"p\",\"q\",\"r\",\"s\",\"t\",\"u\",\"v\",\"w\",\"x\",\"y\",\"z\"}\n",
        "amount_numbers = 0\n",
        "amount_letters= 0\n",
        "amount_os= 0\n",
        "for character in ex_text:\n",
        "  if character in set_numbers:\n",
        "    amount_numbers += 1\n",
        "  elif character in set_letters:\n",
        "    amount_letters +=1\n",
        "  else:\n",
        "    amount_os += 1\n",
        "    \n",
        "print (amount_numbers, amount_letters, amount_os)"
      ],
      "execution_count": 0,
      "outputs": [
        {
          "output_type": "stream",
          "text": [
            "12 158 69\n"
          ],
          "name": "stdout"
        }
      ]
    },
    {
      "cell_type": "code",
      "metadata": {
        "id": "bpd5HyHD6k25",
        "colab_type": "code",
        "outputId": "7718a527-1419-442a-cd39-aee528a748ea",
        "colab": {
          "base_uri": "https://localhost:8080/",
          "height": 50
        }
      },
      "source": [
        "h_age = int(input(\"Input a dog's age in human years: \"))\n",
        "if h_age < 0:\n",
        "  print(\"Age must be positive number.\")\n",
        "  exit()\n",
        "elif h_age == 1:\n",
        "\td_age = h_age * 15\n",
        "elif h_age == 2:\n",
        "\td_age = h_age * 12\n",
        "else:\n",
        "\td_age = 24 + (h_age - 2)*4\n",
        "      \n",
        "print(\"The dog's age in dog's years is\", d_age)"
      ],
      "execution_count": 0,
      "outputs": [
        {
          "output_type": "stream",
          "text": [
            "Input a dog's age in human years: 6\n",
            "The dog's age in dog's years is 40\n"
          ],
          "name": "stdout"
        }
      ]
    },
    {
      "cell_type": "code",
      "metadata": {
        "id": "CUzVnsA46ot7",
        "colab_type": "code",
        "outputId": "0eea21be-227e-4d7d-b9fc-cbbb8778de56",
        "colab": {
          "base_uri": "https://localhost:8080/",
          "height": 50
        }
      },
      "source": [
        "seq = [1,44,30,15,2,18]\n",
        "even_numbers = 0\n",
        "odd_numbers = 0\n",
        "for x in seq:\n",
        "  if x % 2 == 1:\n",
        "    odd_numbers += 1\n",
        "  else:\n",
        "    even_numbers +=1\n",
        "print (\"even numbers:\",even_numbers)\n",
        "print (\"odd numbers:\", odd_numbers)\n",
        "  "
      ],
      "execution_count": 0,
      "outputs": [
        {
          "output_type": "stream",
          "text": [
            "even numbers: 4\n",
            "odd numbers: 2\n"
          ],
          "name": "stdout"
        }
      ]
    },
    {
      "cell_type": "code",
      "metadata": {
        "id": "_42hy2kf6rQy",
        "colab_type": "code",
        "outputId": "7b89645f-795f-4f17-8c49-30b0b2208a76",
        "colab": {
          "base_uri": "https://localhost:8080/",
          "height": 84
        }
      },
      "source": [
        "rows = int (4)\n",
        "\n",
        "for i in range (0, rows):\n",
        "    for j in range(0, i + 1):\n",
        "        print(\"*\", end=' ')\n",
        "\n",
        "    print(\"\\r\")"
      ],
      "execution_count": 0,
      "outputs": [
        {
          "output_type": "stream",
          "text": [
            "* \r\n",
            "* * \r\n",
            "* * * \r\n",
            "* * * * \r\n"
          ],
          "name": "stdout"
        }
      ]
    },
    {
      "cell_type": "code",
      "metadata": {
        "id": "TWt-KHls7uYT",
        "colab_type": "code",
        "outputId": "8783259b-d356-43fc-93b9-65240e0d007d",
        "colab": {
          "base_uri": "https://localhost:8080/",
          "height": 34
        }
      },
      "source": [
        "stringg = 'python'\n",
        "set_of_vowels = [\"y\",\"o\"]\n",
        "for char in stringg:\n",
        "  if char in set_of_vowels:\n",
        "    stringg = stringg.replace(char,(char.upper()))\n",
        "print (stringg)"
      ],
      "execution_count": 0,
      "outputs": [
        {
          "output_type": "stream",
          "text": [
            "pYthOn\n"
          ],
          "name": "stdout"
        }
      ]
    }
  ]
}