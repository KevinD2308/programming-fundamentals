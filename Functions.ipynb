{
  "nbformat": 4,
  "nbformat_minor": 0,
  "metadata": {
    "colab": {
      "name": "Functions.ipynb",
      "provenance": [],
      "collapsed_sections": [],
      "include_colab_link": true
    },
    "kernelspec": {
      "name": "python3",
      "display_name": "Python 3"
    }
  },
  "cells": [
    {
      "cell_type": "markdown",
      "metadata": {
        "id": "view-in-github",
        "colab_type": "text"
      },
      "source": [
        "<a href=\"https://colab.research.google.com/github/KevinD2308/programming-fundamentals/blob/master/Functions.ipynb\" target=\"_parent\"><img src=\"https://colab.research.google.com/assets/colab-badge.svg\" alt=\"Open In Colab\"/></a>"
      ]
    },
    {
      "cell_type": "code",
      "metadata": {
        "id": "OigvKwOLmYuA",
        "colab_type": "code",
        "outputId": "2957180e-131b-4926-c1ea-436842394aab",
        "colab": {
          "base_uri": "https://localhost:8080/",
          "height": 34
        }
      },
      "source": [
        "def numbers (a,b):\n",
        "             e = a[0] * b\n",
        "             f = a[1] * b\n",
        "             g = a[2] * b\n",
        "             return e, f, g \n",
        "numbers([3,7,9],3)"
      ],
      "execution_count": 0,
      "outputs": [
        {
          "output_type": "execute_result",
          "data": {
            "text/plain": [
              "(9, 21, 27)"
            ]
          },
          "metadata": {
            "tags": []
          },
          "execution_count": 155
        }
      ]
    },
    {
      "cell_type": "code",
      "metadata": {
        "id": "m3MH29NmLbsA",
        "colab_type": "code",
        "outputId": "4778d81a-cc23-4f5d-b6f4-4f70156be5f9",
        "colab": {
          "base_uri": "https://localhost:8080/",
          "height": 34
        }
      },
      "source": [
        "def powers(a):\n",
        "  power_of_two=a*a\n",
        "  power_of_three=a*a*a\n",
        "  power_of_four=a*a*a*a\n",
        "  return(power_of_two ,power_of_three ,power_of_four)\n",
        "powers(4)"
      ],
      "execution_count": 0,
      "outputs": [
        {
          "output_type": "execute_result",
          "data": {
            "text/plain": [
              "(16, 64, 256)"
            ]
          },
          "metadata": {
            "tags": []
          },
          "execution_count": 89
        }
      ]
    },
    {
      "cell_type": "code",
      "metadata": {
        "id": "xYXKKNmlMt4P",
        "colab_type": "code",
        "outputId": "8df94882-79a0-4f22-968b-af8df21b6f28",
        "colab": {
          "base_uri": "https://localhost:8080/",
          "height": 67
        }
      },
      "source": [
        "def temperature(scale,temp):\n",
        "  if scale == 'F' or 'f':\n",
        "    return(temp - 32.0) * (5.0/9.0)\n",
        "  elif scale == 'C' or 'c':\n",
        "    return(temp * (5.0/9.0)) + 32.0\n",
        "  else:\n",
        "    print(\"Needs to be (F) or (C)!\")\n",
        "    return\n",
        "\n",
        "scale = input(\"F or C:\")\n",
        "temp = int(input(\"the temp plz:\"))\n",
        "m = temperature(scale, temp)\n",
        "print(temp, \"degrees\", scale, \"is\", m, \"degrees\")\n",
        "\n",
        "\n",
        "\n"
      ],
      "execution_count": 0,
      "outputs": [
        {
          "output_type": "stream",
          "text": [
            "jepe:f\n",
            "opa:212\n",
            "212 degrees f is 100.0 degrees\n"
          ],
          "name": "stdout"
        }
      ]
    },
    {
      "cell_type": "code",
      "metadata": {
        "id": "Y1PfvIinR9Tv",
        "colab_type": "code",
        "outputId": "7f798cf6-3fa2-45c4-cfe3-bf101b2c5b0a",
        "colab": {
          "base_uri": "https://localhost:8080/",
          "height": 34
        }
      },
      "source": [
        "def numberz(n):\n",
        "  print(n+int(f'{n}{n}')+int(f'{n}{n}{n}'))\n",
        "\n",
        "numberz(2)"
      ],
      "execution_count": 0,
      "outputs": [
        {
          "output_type": "stream",
          "text": [
            "246\n"
          ],
          "name": "stdout"
        }
      ]
    },
    {
      "cell_type": "code",
      "metadata": {
        "id": "JMCJY9YIS3mW",
        "colab_type": "code",
        "outputId": "801e647f-3a50-4a0c-f533-a7e4fff0f200",
        "colab": {
          "base_uri": "https://localhost:8080/",
          "height": 34
        }
      },
      "source": [
        "def first_last(a):\n",
        "  res = [ a [0], a[-1] ]\n",
        "  print (res)\n",
        "first_last([5,10,15,25])"
      ],
      "execution_count": 0,
      "outputs": [
        {
          "output_type": "stream",
          "text": [
            "[5, 25]\n"
          ],
          "name": "stdout"
        }
      ]
    },
    {
      "cell_type": "code",
      "metadata": {
        "id": "MBZ9GxlMSurt",
        "colab_type": "code",
        "outputId": "deaefad8-564e-4f0a-d977-9bc100a4be85",
        "colab": {
          "base_uri": "https://localhost:8080/",
          "height": 34
        }
      },
      "source": [
        "def fancy_string(a):\n",
        "  print(\"***\" + a.upper() + \"***\")\n",
        "fancy_string ('hello')"
      ],
      "execution_count": 0,
      "outputs": [
        {
          "output_type": "stream",
          "text": [
            "***HELLO***\n"
          ],
          "name": "stdout"
        }
      ]
    },
    {
      "cell_type": "code",
      "metadata": {
        "id": "BHX71u1OuIIU",
        "colab_type": "code",
        "outputId": "f785cd4a-93dd-4131-a5a9-b17831487c03",
        "colab": {
          "base_uri": "https://localhost:8080/",
          "height": 34
        }
      },
      "source": [
        "def reverse(s): \n",
        "    return s[::-1] \n",
        "  \n",
        "def isPalindrome(s): \n",
        "    rev = reverse(s) \n",
        "  \n",
        "    if (s == rev): \n",
        "        return True\n",
        "    else:\n",
        "        return False\n",
        "  \n",
        "s = \"ABBA\"\n",
        "ans = isPalindrome(s) \n",
        "  \n",
        "if ans == 1: \n",
        "    print(\"Yes\") \n",
        "else: \n",
        "    print(\"No\") \n"
      ],
      "execution_count": 0,
      "outputs": [
        {
          "output_type": "stream",
          "text": [
            "Yes\n"
          ],
          "name": "stdout"
        }
      ]
    },
    {
      "cell_type": "code",
      "metadata": {
        "id": "SU05EOGwwHBb",
        "colab_type": "code",
        "outputId": "3dafb5ca-13e2-4edc-b0bb-b2d78bbc5c4d",
        "colab": {
          "base_uri": "https://localhost:8080/",
          "height": 118
        }
      },
      "source": [
        "def permutation(a):\n",
        "  print(a)\n",
        "  print(a[0] + a[-1] + a[1])\n",
        "  print(a[-1]+ a[0] + a[1])\n",
        "  print(a[-1] +a[1] + a[0])\n",
        "  print(a[1] + a[0] + a[-1])\n",
        "  print(a[1] + a[-1] + a[0])\n",
        "\n",
        "permutation(\"abc\")"
      ],
      "execution_count": 0,
      "outputs": [
        {
          "output_type": "stream",
          "text": [
            "abc\n",
            "acb\n",
            "cab\n",
            "cba\n",
            "bac\n",
            "bca\n"
          ],
          "name": "stdout"
        }
      ]
    }
  ]
}