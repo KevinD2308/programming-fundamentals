{
  "nbformat": 4,
  "nbformat_minor": 0,
  "metadata": {
    "colab": {
      "name": "modules.ipynb",
      "provenance": [],
      "include_colab_link": true
    },
    "kernelspec": {
      "name": "python3",
      "display_name": "Python 3"
    }
  },
  "cells": [
    {
      "cell_type": "markdown",
      "metadata": {
        "id": "view-in-github",
        "colab_type": "text"
      },
      "source": [
        "<a href=\"https://colab.research.google.com/github/KevinD2308/programming-fundamentals/blob/master/modules.ipynb\" target=\"_parent\"><img src=\"https://colab.research.google.com/assets/colab-badge.svg\" alt=\"Open In Colab\"/></a>"
      ]
    },
    {
      "cell_type": "code",
      "metadata": {
        "id": "ulvC87RXNXi8",
        "colab_type": "code",
        "colab": {}
      },
      "source": [
        "with open(sample.txt) as myfile:\n",
        "    head = [next(myfile) for x in range(N)]\n",
        "print(head)\n"
      ],
      "execution_count": 0,
      "outputs": []
    },
    {
      "cell_type": "code",
      "metadata": {
        "id": "o2slBX0INe6M",
        "colab_type": "code",
        "colab": {}
      },
      "source": [
        "text = open(\"sample.txt\", \"r\") \n",
        "  \n",
        "d = dict() \n",
        "  \n",
        "for line in text: \n",
        "   \n",
        "    line = line.strip() \n",
        "  \n",
        "     \n",
        " \n",
        "    line = line.lower() \n",
        "  \n",
        "    \n",
        "    words = line.split(\" \") \n",
        "  \n",
        "  \n",
        "    for word in words: \n",
        "        \n",
        "        if word in d: \n",
        "         \n",
        "            d[word] = d[word] + 1\n",
        "        else: \n",
        "            \n",
        "            d[word] = 1\n",
        "  \n",
        "\n",
        "for key in list(d.keys()): \n",
        "    print(key, \":\", d[key])  "
      ],
      "execution_count": 0,
      "outputs": []
    },
    {
      "cell_type": "code",
      "metadata": {
        "id": "BsuGB0jTNk5d",
        "colab_type": "code",
        "colab": {}
      },
      "source": [
        "with open(\"test.txt\") as f:\n",
        "    with open(\"out.txt\", \"w\") as f1:\n",
        "        for line in f:\n",
        "            f1.write(line)\n"
      ],
      "execution_count": 0,
      "outputs": []
    },
    {
      "cell_type": "code",
      "metadata": {
        "id": "o90ekezzNn0v",
        "colab_type": "code",
        "colab": {}
      },
      "source": [
        "import random\n",
        "lines = open('sample.txt').read().splitlines()\n",
        "myline =random.choice(lines)\n",
        "print(myline)"
      ],
      "execution_count": 0,
      "outputs": []
    }
  ]
}