{
  "nbformat": 4,
  "nbformat_minor": 0,
  "metadata": {
    "colab": {
      "name": "Errrorsss.ipynb",
      "provenance": [],
      "include_colab_link": true
    },
    "kernelspec": {
      "name": "python3",
      "display_name": "Python 3"
    }
  },
  "cells": [
    {
      "cell_type": "markdown",
      "metadata": {
        "id": "view-in-github",
        "colab_type": "text"
      },
      "source": [
        "<a href=\"https://colab.research.google.com/github/KevinD2308/programming-fundamentals/blob/master/Errrorsss.ipynb\" target=\"_parent\"><img src=\"https://colab.research.google.com/assets/colab-badge.svg\" alt=\"Open In Colab\"/></a>"
      ]
    },
    {
      "cell_type": "code",
      "metadata": {
        "id": "b69iJauwSGWC",
        "colab_type": "code",
        "outputId": "cf0b57fe-0b2b-495c-f2f2-e1fdd8765e25",
        "colab": {
          "base_uri": "https://localhost:8080/",
          "height": 34
        }
      },
      "source": [
        "def print_message(day):\n",
        "    messages = {\n",
        "        \"monday\": \"Hello, world!\",\n",
        "        \"tuesday\": \"Today is tuesday!\",\n",
        "        \"wednesday\": \"It is the middle of the week.\",\n",
        "        \"thursday\": \"Today is Donnerstag in German!\",\n",
        "        \"friday\": \"Last day of the week!\",\n",
        "        \"saturday\": \"Hooray for the weekend!\",\n",
        "        \"sunday\": \"Aw, the weekend is almost over.\"\n",
        "    }\n",
        "    print(messages[day])\n",
        "\n",
        "def print_friday_message():\n",
        "    print_message('friday')\n",
        "\n",
        "print_friday_message()\n"
      ],
      "execution_count": 0,
      "outputs": [
        {
          "output_type": "stream",
          "text": [
            "Last day of the week!\n"
          ],
          "name": "stdout"
        }
      ]
    },
    {
      "cell_type": "code",
      "metadata": {
        "id": "k1IsRfs65VD4",
        "colab_type": "code",
        "colab": {
          "base_uri": "https://localhost:8080/",
          "height": 178
        },
        "outputId": "f495091b-b440-4f05-8dc1-0d5179f418b2"
      },
      "source": [
        "friends_numbers = {}\n",
        "friends_numbers['School']['Emily'] = 505505505"
      ],
      "execution_count": 15,
      "outputs": [
        {
          "output_type": "error",
          "ename": "KeyError",
          "evalue": "ignored",
          "traceback": [
            "\u001b[0;31m---------------------------------------------------------------------------\u001b[0m",
            "\u001b[0;31mKeyError\u001b[0m                                  Traceback (most recent call last)",
            "\u001b[0;32m<ipython-input-15-2ebda3b5a390>\u001b[0m in \u001b[0;36m<module>\u001b[0;34m()\u001b[0m\n\u001b[1;32m      1\u001b[0m \u001b[0mfriends_numbers\u001b[0m \u001b[0;34m=\u001b[0m \u001b[0;34m{\u001b[0m\u001b[0;34m}\u001b[0m\u001b[0;34m\u001b[0m\u001b[0;34m\u001b[0m\u001b[0m\n\u001b[0;32m----> 2\u001b[0;31m \u001b[0mfriends_numbers\u001b[0m\u001b[0;34m[\u001b[0m\u001b[0;34m'School'\u001b[0m\u001b[0;34m]\u001b[0m\u001b[0;34m[\u001b[0m\u001b[0;34m'Emily'\u001b[0m\u001b[0;34m]\u001b[0m \u001b[0;34m=\u001b[0m \u001b[0;36m505505505\u001b[0m\u001b[0;34m\u001b[0m\u001b[0;34m\u001b[0m\u001b[0m\n\u001b[0m",
            "\u001b[0;31mKeyError\u001b[0m: 'School'"
          ]
        }
      ]
    },
    {
      "cell_type": "code",
      "metadata": {
        "id": "e2qfMGoASvIg",
        "colab_type": "code",
        "outputId": "c5f7a44b-b9b3-44e9-8e46-30b9f49ffcf4",
        "colab": {
          "base_uri": "https://localhost:8080/",
          "height": 84
        }
      },
      "source": [
        "letters = ['a', 'b', 'c', 'd']\n",
        "index = 0\n",
        "for letter in letters:\n",
        "    print(letters[index])\n",
        "    index += 1\n"
      ],
      "execution_count": 0,
      "outputs": [
        {
          "output_type": "stream",
          "text": [
            "a\n",
            "b\n",
            "c\n",
            "d\n"
          ],
          "name": "stdout"
        }
      ]
    },
    {
      "cell_type": "code",
      "metadata": {
        "id": "U8HcY90VS4j8",
        "colab_type": "code",
        "outputId": "96412ce7-24c9-40f6-9d35-fd6370fdb581",
        "colab": {
          "base_uri": "https://localhost:8080/",
          "height": 34
        }
      },
      "source": [
        "def anti_vowel(c):\n",
        "    \n",
        "    vowels = 'a', 'e', 'i','o', 'u'\n",
        "    for x in c.lower():\n",
        "        if x in vowels:\n",
        "            c = c.replace(x, \"\")\n",
        "    return c\n",
        "\n",
        "print(anti_vowel(\"Hey look words\"))\n"
      ],
      "execution_count": 0,
      "outputs": [
        {
          "output_type": "stream",
          "text": [
            "Hy lk wrds\n"
          ],
          "name": "stdout"
        }
      ]
    },
    {
      "cell_type": "code",
      "metadata": {
        "id": "Tmg2v0636GJm",
        "colab_type": "code",
        "colab": {
          "base_uri": "https://localhost:8080/",
          "height": 168
        },
        "outputId": "49dec6bc-0f49-4350-ead5-e8f16263d649"
      },
      "source": [
        "import random\n",
        "\n",
        "hidden = random.randint(0,9)\n",
        "\n",
        "\n",
        "guessesTaken = 0\n",
        "while guessesTaken < 3:\n",
        "  print('Take a guess.')\n",
        "  guess = input()\n",
        "  guess = int(guess)\n",
        "  \n",
        "  guessesTaken = guessesTaken + 1\n",
        "  if guess < hidden:\n",
        "    print (\"too low\")\n",
        "  if guess > hidden:\n",
        "    print (\"too high\")\n",
        "  if guess == hidden:\n",
        "    break\n",
        "if guess == hidden:\n",
        "  print (\"congrats\")"
      ],
      "execution_count": 42,
      "outputs": [
        {
          "output_type": "stream",
          "text": [
            "Take a guess.\n",
            "5\n",
            "too high\n",
            "Take a guess.\n",
            "2\n",
            "too low\n",
            "Take a guess.\n",
            "4\n",
            "congrats\n"
          ],
          "name": "stdout"
        }
      ]
    },
    {
      "cell_type": "code",
      "metadata": {
        "id": "wenx1C0fWZ5i",
        "colab_type": "code",
        "outputId": "79df5553-d89b-4f87-f642-22157e6502ce",
        "colab": {
          "base_uri": "https://localhost:8080/",
          "height": 84
        }
      },
      "source": [
        "authors = {\n",
        "    \"Charles Dickens\": \"1870\",\n",
        "    \"William Thackeray\": \"1863\",\n",
        "    \"Anthony Trollope\": \"1882\",\n",
        "    \"Gerard Manley Hopkins\": \"1889\"}\n",
        "\n",
        "for author,date in authors.items():\n",
        "    print( author + \" died in \" +  date)\n",
        "\n",
        "\n",
        "\n"
      ],
      "execution_count": 54,
      "outputs": [
        {
          "output_type": "stream",
          "text": [
            "Charles Dickens died in 1870\n",
            "William Thackeray died in 1863\n",
            "Anthony Trollope died in 1882\n",
            "Gerard Manley Hopkins died in 1889\n"
          ],
          "name": "stdout"
        }
      ]
    },
    {
      "cell_type": "code",
      "metadata": {
        "id": "Wo3Qt7nuWjDY",
        "colab_type": "code",
        "outputId": "c9f633d0-8aaa-4439-c3e1-9922af07371c",
        "colab": {
          "base_uri": "https://localhost:8080/",
          "height": 50
        }
      },
      "source": [
        "greeting = input(\"Hello, polite hacker! What's your password to Facebook?\")\n",
        "if greeting == (\"password\"):\n",
        "    print(\"I will not tell you that my password is {}\". format(greeting))\n",
        "else:\n",
        "    print(\"Ugh, I thought you are hacker!\")"
      ],
      "execution_count": 0,
      "outputs": [
        {
          "output_type": "stream",
          "text": [
            "Hello, polite hacker! What's your password to Facebook?ckm\n",
            "Ugh, I thought you are hacker!\n"
          ],
          "name": "stdout"
        }
      ]
    },
    {
      "cell_type": "code",
      "metadata": {
        "id": "pJaysflGYN_M",
        "colab_type": "code",
        "outputId": "fbc76b5a-33db-4ebf-8b8c-daa8a1b089ee",
        "colab": {
          "base_uri": "https://localhost:8080/",
          "height": 34
        }
      },
      "source": [
        "patients = [[70, 1.8], [80, 1.9], [150, 1.7]]\n",
        "\n",
        "def calculate_bmi(weight, height):\n",
        "    return weight / (height ** 2)\n",
        "\n",
        "for patient in patients:\n",
        "    weight, height = patients[0]\n",
        "    bmi = calculate_bmi(weight, height)\n",
        "    print(\"Patient's BMI is: {}\".format(bmi))\n",
        "    break"
      ],
      "execution_count": 0,
      "outputs": [
        {
          "output_type": "stream",
          "text": [
            "Patient's BMI is: 21.604938271604937\n"
          ],
          "name": "stdout"
        }
      ]
    },
    {
      "cell_type": "code",
      "metadata": {
        "id": "s3C2IhALanZ5",
        "colab_type": "code",
        "outputId": "ac09f802-3a69-42ea-e8b3-7e263bb669a8",
        "colab": {
          "base_uri": "https://localhost:8080/",
          "height": 50
        }
      },
      "source": [
        "numbers = []\n",
        "number = 0\n",
        "number = input('Type number:')\n",
        "if number != '3':\n",
        "    numbers.append(number)\n",
        "\n",
        "numbers"
      ],
      "execution_count": 0,
      "outputs": [
        {
          "output_type": "stream",
          "text": [
            "Type number:7\n"
          ],
          "name": "stdout"
        },
        {
          "output_type": "execute_result",
          "data": {
            "text/plain": [
              "['7']"
            ]
          },
          "metadata": {
            "tags": []
          },
          "execution_count": 102
        }
      ]
    },
    {
      "cell_type": "code",
      "metadata": {
        "id": "EDbpw4uDdHy3",
        "colab_type": "code",
        "outputId": "7ec93a50-cdd9-4514-b9e3-619fec72d097",
        "colab": {
          "base_uri": "https://localhost:8080/",
          "height": 134
        }
      },
      "source": [
        "exam_one = int(input(\"Input exam grade one: \"))\n",
        "exam_two = int(input(\"Input exam grade two: \"))\n",
        "exam_three = int(input(\"Input exam grade three: \"))\n",
        "\n",
        "grades = [exam_one, exam_two, exam_three]\n",
        "sum = 0\n",
        "for grade in grades:\n",
        "  sum = sum + grade\n",
        "\n",
        "avg = sum / len(grades)\n",
        "\n",
        "if avg >= 90:\n",
        "    letter_grade = \"A\"\n",
        "elif avg >= 80 and avg < 90:\n",
        "    letter_grade = \"B\"\n",
        "elif avg > 69 and avg < 80:\n",
        "    letter_grade = \"C\"\n",
        "elif avg <= 69 and avg >= 65:\n",
        "    letter_grade = \"D\"\n",
        "else:\n",
        "    letter_grade = \"F\"\n",
        "\n",
        "for grade in grades:\n",
        "\n",
        "  print(\"Exam: \" + str(grade))\n",
        "  print(\"Average: \" + str(avg))\n",
        "  print(\"Grade: \" + letter_grade)\n",
        "  break\n",
        "if letter_grade is \"F\":\n",
        "    print (\"Student is failing.\")\n",
        "else:\n",
        "    print (\"Student is passing.\")\n"
      ],
      "execution_count": 0,
      "outputs": [
        {
          "output_type": "stream",
          "text": [
            "Input exam grade one: 90\n",
            "Input exam grade two: 98\n",
            "Input exam grade three: 95\n",
            "Exam: 90\n",
            "Average: 94.33333333333333\n",
            "Grade: A\n",
            "Student is passing.\n"
          ],
          "name": "stdout"
        }
      ]
    },
    {
      "cell_type": "code",
      "metadata": {
        "id": "_7W4n340d4Jc",
        "colab_type": "code",
        "outputId": "a66a44bf-7041-4015-f3dd-e0bcfdbfa768",
        "colab": {
          "base_uri": "https://localhost:8080/",
          "height": 162
        }
      },
      "source": [
        "fruits = dict('apple=5, babanas=12, oranges=7')\n"
      ],
      "execution_count": 65,
      "outputs": [
        {
          "output_type": "error",
          "ename": "ValueError",
          "evalue": "ignored",
          "traceback": [
            "\u001b[0;31m---------------------------------------------------------------------------\u001b[0m",
            "\u001b[0;31mValueError\u001b[0m                                Traceback (most recent call last)",
            "\u001b[0;32m<ipython-input-65-4fbe1c66a2ed>\u001b[0m in \u001b[0;36m<module>\u001b[0;34m()\u001b[0m\n\u001b[0;32m----> 1\u001b[0;31m \u001b[0mfruits\u001b[0m \u001b[0;34m=\u001b[0m \u001b[0mdict\u001b[0m\u001b[0;34m(\u001b[0m\u001b[0;34m'apple=5, babanas=12, oranges=7'\u001b[0m\u001b[0;34m)\u001b[0m\u001b[0;34m\u001b[0m\u001b[0;34m\u001b[0m\u001b[0m\n\u001b[0m",
            "\u001b[0;31mValueError\u001b[0m: dictionary update sequence element #0 has length 1; 2 is required"
          ]
        }
      ]
    }
  ]
}