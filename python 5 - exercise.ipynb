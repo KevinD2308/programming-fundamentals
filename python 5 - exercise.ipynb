{
 "cells": [
  {
   "cell_type": "markdown",
   "metadata": {},
   "source": [
    "# W8 - Python files and modules"
   ]
  },
  {
   "cell_type": "markdown",
   "metadata": {},
   "source": [
    "# 1. Write function to read first n lines of a file"
   ]
  },
  {
   "cell_type": "code",
   "execution_count": null,
   "metadata": {},
   "outputs": [],
   "source": []
  },
  {
   "cell_type": "markdown",
   "metadata": {},
   "source": [
    "# 2. Create script that will count vowels in string\n",
    "Example\n",
    "```shell\n",
    "$ python find_vowels.py 'hello world'\n",
    "hello world contains 3 vowels\n",
    "```"
   ]
  },
  {
   "cell_type": "code",
   "execution_count": null,
   "metadata": {},
   "outputs": [],
   "source": []
  },
  {
   "cell_type": "markdown",
   "metadata": {},
   "source": [
    "# 3. Write function to count number of lines in a file\n",
    "Example\n",
    "```python\n",
    ">>>count_lines('myfile.txt')\n",
    "File has 12 lines\n",
    "```"
   ]
  },
  {
   "cell_type": "code",
   "execution_count": null,
   "metadata": {},
   "outputs": [],
   "source": []
  },
  {
   "cell_type": "markdown",
   "metadata": {},
   "source": [
    "# 4. Write function to count occurrence of given word in file\n",
    "Example\n",
    "```python\n",
    ">>>count_occurrence('myfile.txt', 'apple')\n",
    "Searched term apple appeared 10 times\n",
    "```"
   ]
  },
  {
   "cell_type": "code",
   "execution_count": null,
   "metadata": {},
   "outputs": [],
   "source": []
  },
  {
   "cell_type": "markdown",
   "metadata": {},
   "source": [
    "# 5. Write function to copy the contents of a file to another file\n",
    "\n",
    "```python\n",
    ">>>copy_file('myfile.txt', 'myfile2.txt')\n",
    "```"
   ]
  },
  {
   "cell_type": "code",
   "execution_count": null,
   "metadata": {},
   "outputs": [],
   "source": []
  },
  {
   "cell_type": "markdown",
   "metadata": {},
   "source": [
    "# 6. Write function to write nested list to file, each list on separate line\n",
    "Example data `my_list = [['a', 'b', 'c'], [1,2,3]]`"
   ]
  },
  {
   "cell_type": "code",
   "execution_count": null,
   "metadata": {},
   "outputs": [],
   "source": []
  },
  {
   "cell_type": "markdown",
   "metadata": {},
   "source": [
    "# 7. Write function to read  random line from a file"
   ]
  },
  {
   "cell_type": "code",
   "execution_count": null,
   "metadata": {},
   "outputs": [],
   "source": []
  },
  {
   "cell_type": "markdown",
   "metadata": {},
   "source": [
    "# 8. Write function to read nth, n-1 and n+1 lines of file\n",
    "Example\n",
    "```python\n",
    ">>>read_specific_lines('myfile.txt', 10)\n",
    "```\n",
    "```\n",
    "Errors should never pass silently.\n",
    "Unless explicitly silenced.\n",
    "In the face of ambiguity, refuse the temptation to guess.\n",
    "```"
   ]
  },
  {
   "cell_type": "code",
   "execution_count": null,
   "metadata": {},
   "outputs": [],
   "source": []
  },
  {
   "cell_type": "markdown",
   "metadata": {},
   "source": [
    "# 9. Write function to read file and find the longest word\n",
    "Example\n",
    "```python\n",
    ">>>find_longest_word('myfile.txt')\n",
    "supercalifragilisticexpialidocious\n",
    "```"
   ]
  },
  {
   "cell_type": "code",
   "execution_count": null,
   "metadata": {},
   "outputs": [],
   "source": []
  },
  {
   "cell_type": "markdown",
   "metadata": {},
   "source": [
    "# 10. Write function to concatenate 2 files together and store them as new file\n",
    "```\n",
    ">>>concatenate_files('myfile1.txt', 'myfile2.txt', 'myfile_new.txt')\n",
    "```"
   ]
  },
  {
   "cell_type": "code",
   "execution_count": null,
   "metadata": {},
   "outputs": [],
   "source": []
  },
  {
   "cell_type": "markdown",
   "metadata": {},
   "source": [
    "# BONUS: Write function to read file and print only words containing letters 'p', 'y', 't', 'o' or 'n' and make these letters uppercase\n",
    "Example\n",
    "```python\n",
    ">>>print_selected_words('myfile.txt')\n",
    "lOve\n",
    "simPliciTY\n",
    "PaTieNce\n",
    "```"
   ]
  },
  {
   "cell_type": "code",
   "execution_count": null,
   "metadata": {},
   "outputs": [],
   "source": []
  }
 ],
 "metadata": {
  "kernelspec": {
   "display_name": "Python 3",
   "language": "python",
   "name": "python3"
  },
  "language_info": {
   "codemirror_mode": {
    "name": "ipython",
    "version": 3
   },
   "file_extension": ".py",
   "mimetype": "text/x-python",
   "name": "python",
   "nbconvert_exporter": "python",
   "pygments_lexer": "ipython3",
   "version": "3.6.2"
  }
 },
 "nbformat": 4,
 "nbformat_minor": 2
}
