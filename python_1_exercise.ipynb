{
  "nbformat": 4,
  "nbformat_minor": 0,
  "metadata": {
    "kernelspec": {
      "display_name": "Python 3",
      "language": "python",
      "name": "python3"
    },
    "language_info": {
      "codemirror_mode": {
        "name": "ipython",
        "version": 3
      },
      "file_extension": ".py",
      "mimetype": "text/x-python",
      "name": "python",
      "nbconvert_exporter": "python",
      "pygments_lexer": "ipython3",
      "version": "3.6.2"
    },
    "colab": {
      "name": "python 1 - exercise.ipynb",
      "provenance": [],
      "collapsed_sections": [],
      "include_colab_link": true
    }
  },
  "cells": [
    {
      "cell_type": "markdown",
      "metadata": {
        "id": "view-in-github",
        "colab_type": "text"
      },
      "source": [
        "<a href=\"https://colab.research.google.com/github/KevinD2308/programming-fundamentals/blob/master/python_1_exercise.ipynb\" target=\"_parent\"><img src=\"https://colab.research.google.com/assets/colab-badge.svg\" alt=\"Open In Colab\"/></a>"
      ]
    },
    {
      "cell_type": "markdown",
      "metadata": {
        "id": "WuqAKpUZ3aZ8",
        "colab_type": "text"
      },
      "source": [
        "# W4 - Python data types assignment"
      ]
    },
    {
      "cell_type": "markdown",
      "metadata": {
        "id": "g-8c8azk3aaB",
        "colab_type": "text"
      },
      "source": [
        "# 1. Print word `python` in reverse order"
      ]
    },
    {
      "cell_type": "code",
      "metadata": {
        "id": "y1Hl-HHJ3aaE",
        "colab_type": "code",
        "colab": {
          "base_uri": "https://localhost:8080/",
          "height": 34
        },
        "outputId": "bd328939-553a-43d8-cd9b-94fa6dcd6ad3"
      },
      "source": [
        "'python' [5] + 'python' [4] + 'python' [3] + 'python' [2] + 'python' [1] + 'python' [0]\n"
      ],
      "execution_count": 1,
      "outputs": [
        {
          "output_type": "execute_result",
          "data": {
            "text/plain": [
              "'nohtyp'"
            ]
          },
          "metadata": {
            "tags": []
          },
          "execution_count": 1
        }
      ]
    },
    {
      "cell_type": "markdown",
      "metadata": {
        "id": "Bx3yXQ8c3aaR",
        "colab_type": "text"
      },
      "source": [
        "# 2. Define variables `apples` and `oranges` and using `format` method print following string:\n",
        ">I have **7** apples and **5** oranges, therefore I have **12** fruits.`"
      ]
    },
    {
      "cell_type": "code",
      "metadata": {
        "id": "uvUhAoNM3aaV",
        "colab_type": "code",
        "colab": {
          "base_uri": "https://localhost:8080/",
          "height": 34
        },
        "outputId": "7cdac10a-d581-4e55-b8c4-2f8abb345a3e"
      },
      "source": [
        "a = 'apples'\n",
        "o = 'oranges'\n",
        "'I have 7 {0} and 5 {1}, therefore I have 12 fruits.'.format (a, o)"
      ],
      "execution_count": 2,
      "outputs": [
        {
          "output_type": "execute_result",
          "data": {
            "text/plain": [
              "'I have 7 apples and 5 oranges, therefore I have 12 fruits.'"
            ]
          },
          "metadata": {
            "tags": []
          },
          "execution_count": 2
        }
      ]
    },
    {
      "cell_type": "markdown",
      "metadata": {
        "id": "JI_vX6213aah",
        "colab_type": "text"
      },
      "source": [
        "# 3. Convert list of characters (`['a', 'b', 'c', 'd']`) to string (`'abc'`)"
      ]
    },
    {
      "cell_type": "code",
      "metadata": {
        "id": "sy8P6ZXs3aam",
        "colab_type": "code",
        "colab": {
          "base_uri": "https://localhost:8080/",
          "height": 34
        },
        "outputId": "2bbad04d-c16f-4513-a338-3ce95e4fe041"
      },
      "source": [
        "list66 =(['a', 'b', 'c', 'd'])\n",
        "string =''.join(list66)\n",
        "string\n"
      ],
      "execution_count": 14,
      "outputs": [
        {
          "output_type": "execute_result",
          "data": {
            "text/plain": [
              "'abcd'"
            ]
          },
          "metadata": {
            "tags": []
          },
          "execution_count": 14
        }
      ]
    },
    {
      "cell_type": "markdown",
      "metadata": {
        "id": "Qv2FVlD73aa4",
        "colab_type": "text"
      },
      "source": [
        "# 4. Get difference between two lists (e.g. `[1, 2, 3, 4, 8, 12]` and `[1, 4, 8, 2]`)"
      ]
    },
    {
      "cell_type": "code",
      "metadata": {
        "id": "pc1jAOPd3aa8",
        "colab_type": "code",
        "colab": {
          "base_uri": "https://localhost:8080/",
          "height": 34
        },
        "outputId": "4777a413-5a53-4de9-82c8-bf51d1cae78b"
      },
      "source": [
        "list = ['1' , '2' , '3']\n",
        "list2 = ['2' , '6' , '5']\n",
        "str1=''.join(list)\n",
        "str2=''.join(list2)\n",
        "set(str1)\n",
        "set(str2)\n",
        "set(str1).difference(set(str2))\n"
      ],
      "execution_count": 5,
      "outputs": [
        {
          "output_type": "execute_result",
          "data": {
            "text/plain": [
              "{'1', '3'}"
            ]
          },
          "metadata": {
            "tags": []
          },
          "execution_count": 5
        }
      ]
    },
    {
      "cell_type": "markdown",
      "metadata": {
        "id": "TrA_WLhL3abF",
        "colab_type": "text"
      },
      "source": [
        "# 5. Add an item to a tuple\n",
        "```python\n",
        "tuple_numbers = (4, 6, 2, 8, 3, 1) \n",
        "```"
      ]
    },
    {
      "cell_type": "code",
      "metadata": {
        "id": "vjM_I8w93abI",
        "colab_type": "code",
        "colab": {
          "base_uri": "https://localhost:8080/",
          "height": 34
        },
        "outputId": "2c0fa854-1386-4013-b989-db87bc52b4fb"
      },
      "source": [
        "tuple_numbers = (4, 6, 2, 8, 3, 1)\n",
        "b= (9)\n",
        "new = tuple_numbers + (b,)\n",
        "new"
      ],
      "execution_count": 13,
      "outputs": [
        {
          "output_type": "execute_result",
          "data": {
            "text/plain": [
              "(4, 6, 2, 8, 3, 1, 9)"
            ]
          },
          "metadata": {
            "tags": []
          },
          "execution_count": 13
        }
      ]
    },
    {
      "cell_type": "markdown",
      "metadata": {
        "id": "uSmDNP1d3abR",
        "colab_type": "text"
      },
      "source": [
        "# 6. Convert a tuple to a string\n",
        "```python\n",
        "input_tuple = ('p', 'y', 't', 'h', 'o', 'n')\n",
        "output_string = 'python'\n",
        "```"
      ]
    },
    {
      "cell_type": "code",
      "metadata": {
        "id": "4PguhkOa3abU",
        "colab_type": "code",
        "colab": {
          "base_uri": "https://localhost:8080/",
          "height": 34
        },
        "outputId": "d396618f-f45d-4577-869c-f2b6e7fe5bd8"
      },
      "source": [
        "input_tuple = ('p', 'y', 't', 'h', 'o', 'n')\n",
        "str4=''.join(input_tuple)\n",
        "str4"
      ],
      "execution_count": 12,
      "outputs": [
        {
          "output_type": "execute_result",
          "data": {
            "text/plain": [
              "'python'"
            ]
          },
          "metadata": {
            "tags": []
          },
          "execution_count": 12
        }
      ]
    },
    {
      "cell_type": "markdown",
      "metadata": {
        "id": "yNxQghKM3abb",
        "colab_type": "text"
      },
      "source": [
        "# 7. Combine two dictionaries into one\n",
        "\n",
        "```python\n",
        "names1 = {'Jack': 25, 'John': 26, 'Emily': 23}\n",
        "names2 = {'Carol': 28, 'Walter': 22}\n",
        "```"
      ]
    },
    {
      "cell_type": "code",
      "metadata": {
        "id": "vcD-aTJ93abe",
        "colab_type": "code",
        "colab": {
          "base_uri": "https://localhost:8080/",
          "height": 34
        },
        "outputId": "6548c1b0-40f8-4c4e-a82c-3ac0ff2fc000"
      },
      "source": [
        "names1 = {'Jack': 25, 'John': 26, 'Emily': 23}\n",
        "names2 = {'Carol': 28, 'Walter': 22}\n",
        "names = {**names1, **names2}\n",
        "names\n"
      ],
      "execution_count": 11,
      "outputs": [
        {
          "output_type": "execute_result",
          "data": {
            "text/plain": [
              "{'Carol': 28, 'Emily': 23, 'Jack': 25, 'John': 26, 'Walter': 22}"
            ]
          },
          "metadata": {
            "tags": []
          },
          "execution_count": 11
        }
      ]
    },
    {
      "cell_type": "markdown",
      "metadata": {
        "id": "c6N8T0Nl3abu",
        "colab_type": "text"
      },
      "source": [
        "# 8. Sum all the items in a dictionary\n",
        "```python\n",
        "ice_cream_price = {'Chocolate': 200, 'Strawberry': 188, 'Vanilla': 175, 'Caramel': 180}\n",
        "```"
      ]
    },
    {
      "cell_type": "code",
      "metadata": {
        "id": "T5E-_uYj3aby",
        "colab_type": "code",
        "colab": {
          "base_uri": "https://localhost:8080/",
          "height": 34
        },
        "outputId": "43c34ccd-3247-4622-c3fb-b7a56d035738"
      },
      "source": [
        "ice_cream_price = {'Chocolate': 200, 'Strawberry': 188, 'Vanilla': 175, 'Caramel': 180}\n",
        "sum(ice_cream_price.values())"
      ],
      "execution_count": 16,
      "outputs": [
        {
          "output_type": "execute_result",
          "data": {
            "text/plain": [
              "743"
            ]
          },
          "metadata": {
            "tags": []
          },
          "execution_count": 16
        }
      ]
    },
    {
      "cell_type": "markdown",
      "metadata": {
        "id": "2M52vLhz3ab8",
        "colab_type": "text"
      },
      "source": [
        "# 9. Remove item(s) from set. Can you guess which item will be removed?\n",
        "```python\n",
        "set_numbers = {1, 2, 3, 4, 5}\n",
        "set_letters = {'p', 'y', 't', 'h', 'o', 'n'}\n",
        "```"
      ]
    },
    {
      "cell_type": "code",
      "metadata": {
        "id": "w5GEwcno3ab_",
        "colab_type": "code",
        "colab": {}
      },
      "source": [
        "set_numbers = {1, 2, 3, 4, 5}\n",
        "set_numbers.remove(1)\n",
        "\n",
        "set_letters = {'p', 'y', 't', 'h', 'o', 'n'}\n",
        "set_letters.remove('p')\n"
      ],
      "execution_count": 0,
      "outputs": []
    },
    {
      "cell_type": "markdown",
      "metadata": {
        "id": "TvG_lnxx3acJ",
        "colab_type": "text"
      },
      "source": [
        "# 10. split list into 3 different variables \n",
        "```python\n",
        "color = [\n",
        "    (\"Black\", \"#000000\", \"rgb(0, 0, 0)\"), \n",
        "    (\"Red\", \"#FF0000\", \"rgb(255, 0, 0)\"), \n",
        "    (\"Yellow\", \"#FFFF00\", \"rgb(255, 255, 0)\")\n",
        "]\n",
        "```"
      ]
    },
    {
      "cell_type": "code",
      "metadata": {
        "id": "8aZMnFIG3acM",
        "colab_type": "code",
        "colab": {
          "base_uri": "https://localhost:8080/",
          "height": 34
        },
        "outputId": "cb1cdb04-8efa-4084-94a8-db29ea023c9b"
      },
      "source": [
        "color = [\n",
        "     (\"Black\", \"#000000\", \"rgb(0, 0, 0)\"),\n",
        "     (\"Red\", \"#FF0000\", \"rgb(255, 0, 0)\"),\n",
        "     (\"Yellow\", \"#FFFF00\", \"rgb(255, 255, 0)\")\n",
        " ]\n",
        "var1, var2, var3 = color\n",
        "var1"
      ],
      "execution_count": 23,
      "outputs": [
        {
          "output_type": "execute_result",
          "data": {
            "text/plain": [
              "('Black', '#000000', 'rgb(0, 0, 0)')"
            ]
          },
          "metadata": {
            "tags": []
          },
          "execution_count": 23
        }
      ]
    },
    {
      "cell_type": "markdown",
      "metadata": {
        "id": "OM-8KdPs3acT",
        "colab_type": "text"
      },
      "source": [
        "# BONUS: test whether every element of first set is in second set and vice versa using using relational operators\n",
        "```python\n",
        "set_a = set(['Chocolate', 'Strawberry', 'Vanilla', 'Caramel'])\n",
        "set_b = set(['Vanilla', 'Caramel','Chocolate', 'Strawberry'])\n",
        "set_c = set(['Chocolate'])\n",
        "```"
      ]
    },
    {
      "cell_type": "code",
      "metadata": {
        "id": "XOdhqlku3acW",
        "colab_type": "code",
        "colab": {
          "base_uri": "https://localhost:8080/",
          "height": 34
        },
        "outputId": "f059d71d-4ad5-4e5d-ca48-cbc50aa6dc26"
      },
      "source": [
        "set_a = set(['Chocolate', 'Strawberry', 'Vanilla', 'Caramel'])\n",
        "set_b = set(['Vanilla', 'Caramel','Chocolate', 'Strawberry'])\n",
        "set_c = set(['Chocolate'])\n",
        "set_a <= set_b\n",
        "set_b <= set_a\n",
        "set_b <= set_c\n",
        "set_a <= set_c\n"
      ],
      "execution_count": 24,
      "outputs": [
        {
          "output_type": "execute_result",
          "data": {
            "text/plain": [
              "False"
            ]
          },
          "metadata": {
            "tags": []
          },
          "execution_count": 24
        }
      ]
    }
  ]
}